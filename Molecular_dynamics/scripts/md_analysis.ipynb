import MDAnalysis as mda
from MDAnalysis.analysis.rms import RMSD
import pandas as pd
import warnings

warnings.filterwarnings("ignore", category=DeprecationWarning, module="MDAnalysis.coordinates.DCD")
warnings.filterwarnings('ignore', category=UserWarning, module='MDAnalysis')

# Definindo o caminho dos arquivos
topology_path = "/media/leon/FEDF-FDB3/md_thil_10replicates_100ns/1_replica/water_remov/1/5cc8_wr_1.prmtop"
trajectory_path = "/media/leon/FEDF-FDB3/md_thil_10replicates_100ns/1_replica/water_remov/1/5cc8_wr_1.dcd"


# Carregando a topologia e a trajetória
u = mda.Universe(topology_path, trajectory_path)

# Selecionando os átomos do backbone (CA, C, O, N)
backbone_atoms = u.select_atoms("backbone and (name CA or name C or name O or name N)")

# Inicializando a análise de RMSD
rmsd_analysis = RMSD(backbone_atoms, reference=backbone_atoms, ref_frame=0)
rmsd_analysis.run()

# Convertendo os resultados para um DataFrame do pandas para facilitar a exportação para CSV
rmsd_results = pd.DataFrame(rmsd_analysis.results.rmsd, columns=["Frame", "Time (ps)", "RMSD"])

# Salvando os resultados em um arquivo CSV
csv_path = "./1_rmsd.csv"  # Escolha seu caminho de salvamento preferido
rmsd_results.to_csv(csv_path, index=False)

print(f"RMSD data saved to {csv_path}")
