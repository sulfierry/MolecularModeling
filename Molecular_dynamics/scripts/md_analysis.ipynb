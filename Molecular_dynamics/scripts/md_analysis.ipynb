{
 "cells": [
  {
   "cell_type": "code",
   "execution_count": 6,
   "metadata": {},
   "outputs": [],
   "source": [
    "import os\n",
    "import subprocess\n",
    "\n",
    "def generate_cpptraj_script(prmtop_path, dcd_paths):\n",
    "    \"\"\"\n",
    "    Gera um script `cpptraj` para processar múltiplas trajetórias com a mesma topologia.\n",
    "    \"\"\"\n",
    "    # Inicia o script com o comando para carregar a topologia\n",
    "    cpptraj_script = f\"parm {prmtop_path}\\n\"\n",
    "    \n",
    "    # Adiciona os comandos para processar cada trajetória\n",
    "    for dcd_path in dcd_paths:\n",
    "        replicate_number = dcd_path.split('/')[-2]  # Extrai o número da réplica do caminho\n",
    "        output_file = f\"rmsd_replicate_{replicate_number}.dat\"\n",
    "        cpptraj_script += f\"\"\"\n",
    "trajin {dcd_path}\n",
    "reference {dcd_path} 1\n",
    "rms reference out {output_file} \"@C, @N, @O\" mass\n",
    "\"\"\"\n",
    "    # Adiciona o comando de clustering apenas após o último trajin\n",
    "    cpptraj_script += \"cluster hierarchical clusters 10 rms \\\"@C, @N, @O\\\" sieve 100\\n\"\n",
    "    \n",
    "    return cpptraj_script\n",
    "\n",
    "def run_cpptraj(cpptraj_script):\n",
    "    \"\"\"\n",
    "    Executa o script `cpptraj` gerado.\n",
    "    \"\"\"\n",
    "    with open(\"cpptraj_input.in\", \"w\") as script_file:\n",
    "        script_file.write(cpptraj_script)\n",
    "    \n",
    "    subprocess.run([\"cpptraj\", \"-i\", \"cpptraj_input.in\"])\n",
    "\n",
    "# Caminho para o arquivo .prmtop\n",
    "prmtop_path = \"/media/leon/FEDF-FDB3/md_thil_10replicates_100ns/1_replica/water_remov/1/5cc8_1_wr.prmtop\"  # Assume-se que o arquivo .prmtop está em ./1/\n",
    "\n",
    "# Lista para armazenar os caminhos dos arquivos .dcd\n",
    "dcd_paths = []\n",
    "\n",
    "# Percorre os diretórios para encontrar os arquivos .dcd\n",
    "for i in range(1, 11):  # Assumindo 10 diretórios como no exemplo\n",
    "    dcd_path = f\"/media/leon/FEDF-FDB3/md_thil_10replicates_100ns/1_replica/water_remov/{i}/5cc8_{i}_wr.dcd\"\n",
    "    if os.path.exists(dcd_path):\n",
    "        dcd_paths.append(dcd_path)\n",
    "\n",
    "# Gera o script `cpptraj`\n",
    "cpptraj_script = generate_cpptraj_script(prmtop_path, dcd_paths)\n",
    "\n",
    "\n"
   ]
  },
  {
   "cell_type": "code",
   "execution_count": 7,
   "metadata": {},
   "outputs": [
    {
     "name": "stdout",
     "output_type": "stream",
     "text": [
      "\n",
      "CPPTRAJ: Trajectory Analysis. V6.4.4 (AmberTools)\n",
      "    ___  ___  ___  ___\n",
      "     | \\/ | \\/ | \\/ | \n",
      "    _|_/\\_|_/\\_|_/\\_|_\n",
      "\n",
      "| Date/time: 02/07/24 10:59:37\n",
      "| Available memory: 6.108 GB\n",
      "\n",
      "INPUT: Reading input from 'cpptraj_input.in'\n",
      "  [parm ./media/leon/FEDF-FDB3/md_thil_10replicates_100ns/1_replica/water_remov/1/5cc8_1_wr.prmtop]\n",
      "TIME: Total execution time: 0.0004 seconds.\n",
      "\n"
     ]
    },
    {
     "name": "stderr",
     "output_type": "stream",
     "text": [
      "Error: './media/leon/FEDF-FDB3/md_thil_10replicates_100ns/1_replica/water_remov/1/5cc8_1_wr.prmtop': No such file or directory\n",
      "Error: Could not open topology './media/leon/FEDF-FDB3/md_thil_10replicates_100ns/1_replica/water_remov/1/5cc8_1_wr.prmtop'\n",
      "\t1 errors encountered reading input.\n",
      "Error: Error(s) occurred during execution.\n"
     ]
    }
   ],
   "source": [
    "# Executa o script `cpptraj`\n",
    "run_cpptraj(cpptraj_script)"
   ]
  }
 ],
 "metadata": {
  "kernelspec": {
   "display_name": "py38",
   "language": "python",
   "name": "python3"
  },
  "language_info": {
   "codemirror_mode": {
    "name": "ipython",
    "version": 3
   },
   "file_extension": ".py",
   "mimetype": "text/x-python",
   "name": "python",
   "nbconvert_exporter": "python",
   "pygments_lexer": "ipython3",
   "version": "3.8.13"
  }
 },
 "nbformat": 4,
 "nbformat_minor": 2
}
